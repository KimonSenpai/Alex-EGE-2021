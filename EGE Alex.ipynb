{
 "cells": [
  {
   "cell_type": "markdown",
   "metadata": {},
   "source": [
    "# Problem 25"
   ]
  },
  {
   "cell_type": "code",
   "execution_count": 6,
   "metadata": {},
   "outputs": [
    {
     "name": "stdout",
     "output_type": "stream",
     "text": [
      "3 58153\n",
      "7 24923\n",
      "59 2957\n",
      "13 13421\n",
      "149 1171\n",
      "5 34897\n",
      "211 827\n",
      "2 87251\n"
     ]
    }
   ],
   "source": [
    "from math import ceil\n",
    "for i in range(174457, 174506):\n",
    "    count = 0\n",
    "    root = ceil(i**0.5)\n",
    "    res = 0\n",
    "    if root**2 == i:\n",
    "        count += 1\n",
    "    for v in range(2, root):\n",
    "        if i % v == 0:\n",
    "            count += 2\n",
    "            res = (v, i//v)\n",
    "    if count == 2:\n",
    "        print(*res)"
   ]
  },
  {
   "cell_type": "code",
   "execution_count": 1,
   "metadata": {},
   "outputs": [
    {
     "name": "stdout",
     "output_type": "stream",
     "text": [
      "1 2 4 78157 156314 312628\n",
      "1 3 9 34739 104217 312651\n"
     ]
    }
   ],
   "source": [
    "from math import ceil\n",
    "for i in range(312614, 312652):\n",
    "    count = 0\n",
    "    root = ceil(i**0.5)\n",
    "    res = []\n",
    "    if root**2 == i:\n",
    "        count += 1\n",
    "    for v in range(1, root):\n",
    "        if i % v == 0:\n",
    "            count += 2\n",
    "            res += [v, i//v]\n",
    "    if count == 6:\n",
    "        res = sorted(res)\n",
    "        print(*res)"
   ]
  },
  {
   "cell_type": "markdown",
   "metadata": {},
   "source": [
    "# Problem 27"
   ]
  },
  {
   "cell_type": "markdown",
   "metadata": {},
   "source": [
    "## #27424"
   ]
  },
  {
   "cell_type": "code",
   "execution_count": 4,
   "metadata": {
    "scrolled": true
   },
   "outputs": [
    {
     "name": "stdout",
     "output_type": "stream",
     "text": [
      "399762080\n"
     ]
    }
   ],
   "source": [
    "f = open('27-B_demo.txt', 'r')\n",
    "n = int(f.readline())\n",
    "\n",
    "s = 0\n",
    "sub = 10000\n",
    "\n",
    "for i in range(n):\n",
    "    a, b = (int(v) for v in f.readline().split())\n",
    "    s += max(a, b)\n",
    "    if abs(a - b) % 3 != 0:\n",
    "        sub = min(sub, abs(a-b))\n",
    "if s % 3 == 0:\n",
    "    s -= sub\n",
    "print(s)"
   ]
  },
  {
   "cell_type": "markdown",
   "metadata": {},
   "source": [
    "## #27891"
   ]
  },
  {
   "cell_type": "code",
   "execution_count": 6,
   "metadata": {},
   "outputs": [
    {
     "name": "stdout",
     "output_type": "stream",
     "text": [
      "994000\n"
     ]
    }
   ],
   "source": [
    "f = open('27-B_2.txt')\n",
    "n = int(f.readline())\n",
    "m1, m2, m7, m14, m = [0]*5\n",
    "for i in range(n):\n",
    "    v = int(f.readline())\n",
    "    if v % 14 == 0:\n",
    "        m = max(v*m1, v*m2, v*m7, v*m14, m)\n",
    "        m14 = max(m14, v)\n",
    "    elif v % 7 == 0:\n",
    "        m = max(v*m2, v*m14, m)\n",
    "        m7 = max(m7, v)\n",
    "    elif v % 2 == 0:\n",
    "        m = max(v*m7, v*m14, m)\n",
    "        m2 = max(m2, v)\n",
    "    else:\n",
    "        m = max(v*m14, m)\n",
    "        m1 = max(m1, v)\n",
    "        \n",
    "print(m)"
   ]
  },
  {
   "cell_type": "markdown",
   "metadata": {},
   "source": [
    "## #27989"
   ]
  },
  {
   "cell_type": "code",
   "execution_count": 7,
   "metadata": {
    "scrolled": true
   },
   "outputs": [
    {
     "name": "stdout",
     "output_type": "stream",
     "text": [
      "19\n"
     ]
    }
   ],
   "source": [
    "f = open('27989_A.txt')\n",
    "n = int(f.readline())\n",
    "m1, m2, m13, m26 = [0]*4\n",
    "for i in range(n):\n",
    "    v = int(f.readline())\n",
    "    if v % 26 == 0:\n",
    "        m26 += 1\n",
    "    elif v % 13 == 0:\n",
    "        m13 += 1\n",
    "    elif v % 2 == 0:\n",
    "        m2 += 1\n",
    "    else:\n",
    "        m1 += 1\n",
    "        \n",
    "print(m2*m13 + m26*(n-1) - m26*(m26 - 1)//2)"
   ]
  },
  {
   "cell_type": "code",
   "execution_count": 9,
   "metadata": {},
   "outputs": [
    {
     "name": "stdout",
     "output_type": "stream",
     "text": [
      "199360639\n"
     ]
    }
   ],
   "source": [
    "f = open('27989_B.txt')\n",
    "n = int(f.readline())\n",
    "m1, m2, m13, m26, m = [0]*5\n",
    "for i in range(n):\n",
    "    v = int(f.readline())\n",
    "    if v % 26 == 0:\n",
    "        m += m1 + m2 + m13 + m26\n",
    "        m26 += 1\n",
    "    elif v % 13 == 0:\n",
    "        m += m2 + m26\n",
    "        m13 += 1\n",
    "    elif v % 2 == 0:\n",
    "        m += m13 + m26\n",
    "        m2 += 1\n",
    "    else:\n",
    "        m += m26\n",
    "        m1 += 1\n",
    "        \n",
    "print(m)"
   ]
  },
  {
   "cell_type": "markdown",
   "metadata": {},
   "source": [
    "## Задача про дороги"
   ]
  },
  {
   "cell_type": "code",
   "execution_count": 2,
   "metadata": {},
   "outputs": [
    {
     "name": "stdout",
     "output_type": "stream",
     "text": [
      "3\n",
      "20\n",
      "320 150\n",
      "200 440\n",
      "300 210\n",
      "750\n"
     ]
    }
   ],
   "source": [
    "n = int(input())\n",
    "t = int(input())\n",
    "A = 0\n",
    "B = t\n",
    "for i in range(n):\n",
    "    a, b = (int(v) for v in input().split())\n",
    "    A = A + a\n",
    "    B = min(A + t, B + b)\n",
    "print(B)"
   ]
  },
  {
   "cell_type": "code",
   "execution_count": null,
   "metadata": {},
   "outputs": [],
   "source": [
    "n = int(input())\n",
    "mas = [0]*7\n",
    "for i in range(7):\n",
    "    mas[i] = int(input())\n",
    "maxVal = 0\n",
    "maxSum = 0\n",
    "for i in range(7, n):\n",
    "    val = int(input())\n",
    "    maxVal = max(maxVal, mas[i%7])\n",
    "    maxSum = max(maxSum, val + maxVal)\n",
    "    mas[i%7] = val\n",
    "print(maxSum)"
   ]
  },
  {
   "cell_type": "markdown",
   "metadata": {},
   "source": [
    "## 31 kpolyakov\n",
    "\n",
    "Имеется набор данных, состоящий из троек положительных целых чисел. Необходимо выбрать из\n",
    "каждой тройки два числа так, чтобы сумма всех выбранных чисел не делилась на 9 и при этом\n",
    "была минимально возможной. Гарантируется, что искомую сумму получить можно. Программа\n",
    "должна напечатать одно число – минимально возможную сумму, соответствующую условиям\n",
    "задачи.\n",
    "\n",
    "*Входные данные:* Даны два входных файла: файл A (27-31a.txt) и файл B (27-31b.txt),\n",
    "каждый из которых содержит в первой строке количество троек N (1 ≤ N ≤ 100000). Каждая из\n",
    "следующих N строк содержит три натуральных числа, не превышающих 10 0\n",
    "\n",
    "*Пример входного файла:*\n",
    "\n",
    "6\n",
    "\n",
    "8 3 4\n",
    "\n",
    "4 8 12\n",
    "\n",
    "9 8 11\n",
    "\n",
    "2 8 3\n",
    "\n",
    "12 3 5\n",
    "\n",
    "1 4 11\n",
    "\n",
    "Для указанных входных данных значением искомой суммы должно быть число 56\n",
    "В ответе укажите два числа: сначала значение искомой суммы для файла А, затем для файла B."
   ]
  },
  {
   "cell_type": "code",
   "execution_count": 2,
   "metadata": {},
   "outputs": [
    {
     "name": "stdout",
     "output_type": "stream",
     "text": [
      "29466419\n"
     ]
    }
   ],
   "source": [
    "minSum = 0\n",
    "minDif = 10000\n",
    "f = open('27-31b.txt', 'r')\n",
    "n = int(f.readline())\n",
    "for i in range(n):\n",
    "    mas = [int(v) for v in f.readline().split()]\n",
    "    mas.sort()\n",
    "    minSum += mas[0] + mas[1]\n",
    "    if (mas[2] - mas[0]) % 9 != 0:\n",
    "        minDif = min(minDif, mas[2] - mas[0])\n",
    "    if (mas[2] - mas[1]) % 9 != 0:\n",
    "        minDif = min(minDif, mas[2] - mas[1])\n",
    "        \n",
    "if minSum % 9 == 0:\n",
    "    print(minSum + minDif)\n",
    "else:\n",
    "    print(minSum)"
   ]
  },
  {
   "cell_type": "markdown",
   "metadata": {},
   "source": [
    "## Problem 25"
   ]
  },
  {
   "cell_type": "markdown",
   "metadata": {},
   "source": [
    "### 125 Polyakov"
   ]
  },
  {
   "cell_type": "code",
   "execution_count": 19,
   "metadata": {
    "scrolled": true
   },
   "outputs": [
    {
     "name": "stdout",
     "output_type": "stream",
     "text": [
      "231 508049\n"
     ]
    }
   ],
   "source": [
    "from math import ceil\n",
    "a, b = [485617, 529678 + 1]\n",
    "c = 0\n",
    "minVal = 0\n",
    "minDif = 1000000\n",
    "for i in range(a, b):\n",
    "    div = []\n",
    "    divider = 2\n",
    "    val = i\n",
    "    while val > 1 and len(div) <= 3 and len(div) == len(set(div)) and divider <= val**0.5:\n",
    "        if val % divider == 0:\n",
    "            val /= divider\n",
    "            div += [divider]\n",
    "        else:\n",
    "            divider += 1\n",
    "    if val != 1:\n",
    "        div += [val]\n",
    "    \n",
    "    if len(div) == 3 and len(div) == len(set(div)) and len(set([v%10 for v in div])) == 1:\n",
    "        c += 1\n",
    "        dif = max(div) - min(div)\n",
    "        if dif < minDif:\n",
    "            minDif = dif\n",
    "            minVal = i\n",
    "        \n",
    "print(c, minVal)"
   ]
  },
  {
   "cell_type": "code",
   "execution_count": 16,
   "metadata": {},
   "outputs": [
    {
     "name": "stdout",
     "output_type": "stream",
     "text": [
      "485695\n",
      "5\n",
      "7\n",
      "13877\n"
     ]
    }
   ],
   "source": [
    "c = int(input())\n",
    "div = 2\n",
    "while c > 1:\n",
    "    if c%div == 0:\n",
    "        c /= div\n",
    "        print(div, sep=' ')\n",
    "    else:\n",
    "        div += 1"
   ]
  },
  {
   "cell_type": "code",
   "execution_count": 12,
   "metadata": {},
   "outputs": [
    {
     "name": "stdout",
     "output_type": "stream",
     "text": [
      "3\n",
      "[3, 161873.0]\n"
     ]
    }
   ],
   "source": [
    "div = []\n",
    "divider = 2\n",
    "val = 485619\n",
    "while val > 1 and len(div) <= 3 and len(div) == len(set(div)) and divider <= val**0.5:\n",
    "    if val % divider == 0:\n",
    "        val /= divider\n",
    "        div += [divider]\n",
    "        print(divider)\n",
    "    else:\n",
    "        divider += 1\n",
    "if val != 1:\n",
    "    div += [val]\n",
    "if len(div) == 3 and len(div) == len(set(div)):\n",
    "    c += 1\n",
    "print(div)"
   ]
  },
  {
   "cell_type": "code",
   "execution_count": 20,
   "metadata": {},
   "outputs": [
    {
     "data": {
      "text/plain": [
       "{1, 2, 3, 4, 5, 6}"
      ]
     },
     "execution_count": 20,
     "metadata": {},
     "output_type": "execute_result"
    }
   ],
   "source": [
    "mas = [1, 2, 2, 3, 4, 4, 4, 5, 6, 6]\n",
    "\n",
    "set(mas)"
   ]
  },
  {
   "cell_type": "code",
   "execution_count": 25,
   "metadata": {},
   "outputs": [
    {
     "name": "stdout",
     "output_type": "stream",
     "text": [
      "2087\n"
     ]
    }
   ],
   "source": [
    "\n",
    "f = open('24-j6.txt', 'r')\n",
    "s = f.readline()\n",
    "\n",
    "#s = input()\n",
    "prev = s[0]\n",
    "l = 1\n",
    "count5 = 0\n",
    "for c in s[1:]:\n",
    "    if prev < c:\n",
    "        l += 1\n",
    "    else:\n",
    "        if l == 5:\n",
    "            count5 += 1\n",
    "        l = 1\n",
    "    prev = c\n",
    "if l == 5:\n",
    "    count5 += 1\n",
    "print(count5)"
   ]
  },
  {
   "cell_type": "code",
   "execution_count": 22,
   "metadata": {},
   "outputs": [
    {
     "name": "stdout",
     "output_type": "stream",
     "text": [
      "Help on built-in function read:\n",
      "\n",
      "read(size=-1, /) method of _io.TextIOWrapper instance\n",
      "    Read at most n characters from stream.\n",
      "    \n",
      "    Read from underlying buffer until we have n characters or we hit EOF.\n",
      "    If n is negative or omitted, read until EOF.\n",
      "\n"
     ]
    }
   ],
   "source": [
    "help(f.read)"
   ]
  },
  {
   "cell_type": "code",
   "execution_count": 27,
   "metadata": {},
   "outputs": [
    {
     "name": "stdout",
     "output_type": "stream",
     "text": [
      "97 98 122 65 66 90\n"
     ]
    }
   ],
   "source": [
    "print(*[ord(v) for v in ('a', 'b', 'z', 'A', 'B', 'Z')])"
   ]
  },
  {
   "cell_type": "code",
   "execution_count": 35,
   "metadata": {},
   "outputs": [
    {
     "name": "stdout",
     "output_type": "stream",
     "text": [
      "'Hello - \\u041f\\u0440\\u0438\\u0432\\u0435\\u0442'\n",
      "'Hello - Привет'\n",
      "[1, 2, 2, 3, 4, 4, 4, 5, 6, 6]\n",
      "[1, 2, 2, 3, 4, 4, 4, 5, 6, 6]\n"
     ]
    }
   ],
   "source": [
    "s = 'Hello - Привет'\n",
    "print(ascii(s))\n",
    "print(repr(s))\n",
    "print(repr(mas))\n",
    "print(str(mas))"
   ]
  },
  {
   "cell_type": "code",
   "execution_count": 37,
   "metadata": {},
   "outputs": [
    {
     "data": {
      "text/plain": [
       "'<built-in function print>'"
      ]
     },
     "execution_count": 37,
     "metadata": {},
     "output_type": "execute_result"
    }
   ],
   "source": [
    "repr(print)"
   ]
  }
 ],
 "metadata": {
  "kernelspec": {
   "display_name": "Python 3",
   "language": "python",
   "name": "python3"
  },
  "language_info": {
   "codemirror_mode": {
    "name": "ipython",
    "version": 3
   },
   "file_extension": ".py",
   "mimetype": "text/x-python",
   "name": "python",
   "nbconvert_exporter": "python",
   "pygments_lexer": "ipython3",
   "version": "3.7.6"
  }
 },
 "nbformat": 4,
 "nbformat_minor": 4
}
