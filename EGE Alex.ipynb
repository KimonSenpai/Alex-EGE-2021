{
 "cells": [
  {
   "cell_type": "markdown",
   "metadata": {},
   "source": [
    "# Problem 25"
   ]
  },
  {
   "cell_type": "code",
   "execution_count": 6,
   "metadata": {},
   "outputs": [
    {
     "name": "stdout",
     "output_type": "stream",
     "text": [
      "3 58153\n",
      "7 24923\n",
      "59 2957\n",
      "13 13421\n",
      "149 1171\n",
      "5 34897\n",
      "211 827\n",
      "2 87251\n"
     ]
    }
   ],
   "source": [
    "from math import ceil\n",
    "for i in range(174457, 174506):\n",
    "    count = 0\n",
    "    root = ceil(i**0.5)\n",
    "    res = 0\n",
    "    if root**2 == i:\n",
    "        count += 1\n",
    "    for v in range(2, root):\n",
    "        if i % v == 0:\n",
    "            count += 2\n",
    "            res = (v, i//v)\n",
    "    if count == 2:\n",
    "        print(*res)"
   ]
  },
  {
   "cell_type": "code",
   "execution_count": 1,
   "metadata": {},
   "outputs": [
    {
     "name": "stdout",
     "output_type": "stream",
     "text": [
      "1 2 4 78157 156314 312628\n",
      "1 3 9 34739 104217 312651\n"
     ]
    }
   ],
   "source": [
    "from math import ceil\n",
    "for i in range(312614, 312652):\n",
    "    count = 0\n",
    "    root = ceil(i**0.5)\n",
    "    res = []\n",
    "    if root**2 == i:\n",
    "        count += 1\n",
    "    for v in range(1, root):\n",
    "        if i % v == 0:\n",
    "            count += 2\n",
    "            res += [v, i//v]\n",
    "    if count == 6:\n",
    "        res = sorted(res)\n",
    "        print(*res)"
   ]
  },
  {
   "cell_type": "markdown",
   "metadata": {},
   "source": [
    "# Problem 27"
   ]
  },
  {
   "cell_type": "markdown",
   "metadata": {},
   "source": [
    "## #27424"
   ]
  },
  {
   "cell_type": "code",
   "execution_count": 4,
   "metadata": {
    "scrolled": true
   },
   "outputs": [
    {
     "name": "stdout",
     "output_type": "stream",
     "text": [
      "399762080\n"
     ]
    }
   ],
   "source": [
    "f = open('27-B_demo.txt', 'r')\n",
    "n = int(f.readline())\n",
    "\n",
    "s = 0\n",
    "sub = 10000\n",
    "\n",
    "for i in range(n):\n",
    "    a, b = (int(v) for v in f.readline().split())\n",
    "    s += max(a, b)\n",
    "    if abs(a - b) % 3 != 0:\n",
    "        sub = min(sub, abs(a-b))\n",
    "if s % 3 == 0:\n",
    "    s -= sub\n",
    "print(s)"
   ]
  },
  {
   "cell_type": "markdown",
   "metadata": {},
   "source": [
    "## #27891"
   ]
  },
  {
   "cell_type": "code",
   "execution_count": 6,
   "metadata": {},
   "outputs": [
    {
     "name": "stdout",
     "output_type": "stream",
     "text": [
      "994000\n"
     ]
    }
   ],
   "source": [
    "f = open('27-B_2.txt')\n",
    "n = int(f.readline())\n",
    "m1, m2, m7, m14, m = [0]*5\n",
    "for i in range(n):\n",
    "    v = int(f.readline())\n",
    "    if v % 14 == 0:\n",
    "        m = max(v*m1, v*m2, v*m7, v*m14, m)\n",
    "        m14 = max(m14, v)\n",
    "    elif v % 7 == 0:\n",
    "        m = max(v*m2, v*m14, m)\n",
    "        m7 = max(m7, v)\n",
    "    elif v % 2 == 0:\n",
    "        m = max(v*m7, v*m14, m)\n",
    "        m2 = max(m2, v)\n",
    "    else:\n",
    "        m = max(v*m14, m)\n",
    "        m1 = max(m1, v)\n",
    "        \n",
    "print(m)"
   ]
  },
  {
   "cell_type": "markdown",
   "metadata": {},
   "source": [
    "## #27989"
   ]
  },
  {
   "cell_type": "code",
   "execution_count": 7,
   "metadata": {
    "scrolled": true
   },
   "outputs": [
    {
     "name": "stdout",
     "output_type": "stream",
     "text": [
      "19\n"
     ]
    }
   ],
   "source": [
    "f = open('27989_A.txt')\n",
    "n = int(f.readline())\n",
    "m1, m2, m13, m26 = [0]*4\n",
    "for i in range(n):\n",
    "    v = int(f.readline())\n",
    "    if v % 26 == 0:\n",
    "        m26 += 1\n",
    "    elif v % 13 == 0:\n",
    "        m13 += 1\n",
    "    elif v % 2 == 0:\n",
    "        m2 += 1\n",
    "    else:\n",
    "        m1 += 1\n",
    "        \n",
    "print(m2*m13 + m26*(n-1) - m26*(m26 - 1)//2)"
   ]
  },
  {
   "cell_type": "code",
   "execution_count": 9,
   "metadata": {},
   "outputs": [
    {
     "name": "stdout",
     "output_type": "stream",
     "text": [
      "199360639\n"
     ]
    }
   ],
   "source": [
    "f = open('27989_B.txt')\n",
    "n = int(f.readline())\n",
    "m1, m2, m13, m26, m = [0]*5\n",
    "for i in range(n):\n",
    "    v = int(f.readline())\n",
    "    if v % 26 == 0:\n",
    "        m += m1 + m2 + m13 + m26\n",
    "        m26 += 1\n",
    "    elif v % 13 == 0:\n",
    "        m += m2 + m26\n",
    "        m13 += 1\n",
    "    elif v % 2 == 0:\n",
    "        m += m13 + m26\n",
    "        m2 += 1\n",
    "    else:\n",
    "        m += m26\n",
    "        m1 += 1\n",
    "        \n",
    "print(m)"
   ]
  },
  {
   "cell_type": "markdown",
   "metadata": {},
   "source": [
    "## Задача про дороги"
   ]
  },
  {
   "cell_type": "code",
   "execution_count": 2,
   "metadata": {},
   "outputs": [
    {
     "name": "stdout",
     "output_type": "stream",
     "text": [
      "3\n",
      "20\n",
      "320 150\n",
      "200 440\n",
      "300 210\n",
      "750\n"
     ]
    }
   ],
   "source": [
    "n = int(input())\n",
    "t = int(input())\n",
    "A = 0\n",
    "B = t\n",
    "for i in range(n):\n",
    "    a, b = (int(v) for v in input().split())\n",
    "    A = A + a\n",
    "    B = min(A + t, B + b)\n",
    "print(B)"
   ]
  },
  {
   "cell_type": "code",
   "execution_count": null,
   "metadata": {},
   "outputs": [],
   "source": [
    "n = int(input())\n",
    "mas = [0]*7\n",
    "for i in range(7):\n",
    "    mas[i] = int(input())\n",
    "maxVal = 0\n",
    "maxSum = 0\n",
    "for i in range(7, n):\n",
    "    val = int(input())\n",
    "    maxVal = max(maxVal, mas[i%7])\n",
    "    maxSum = max(maxSum, val + maxVal)\n",
    "    mas[i%7] = val\n",
    "print(maxSum)"
   ]
  }
 ],
 "metadata": {
  "kernelspec": {
   "display_name": "Python 3",
   "language": "python",
   "name": "python3"
  },
  "language_info": {
   "codemirror_mode": {
    "name": "ipython",
    "version": 3
   },
   "file_extension": ".py",
   "mimetype": "text/x-python",
   "name": "python",
   "nbconvert_exporter": "python",
   "pygments_lexer": "ipython3",
   "version": "3.7.6"
  }
 },
 "nbformat": 4,
 "nbformat_minor": 4
}
