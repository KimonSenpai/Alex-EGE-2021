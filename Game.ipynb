{
 "cells": [
  {
   "cell_type": "code",
   "execution_count": 4,
   "metadata": {},
   "outputs": [],
   "source": [
    "N = 1000\n",
    "matr = [[0]*N for i in range(N)]\n",
    "for i in range(N):\n",
    "    for j in range(N):\n",
    "        if i+j <= 20: continue\n",
    "        mas = []\n",
    "        if i > 0:\n",
    "            mas += [matr[i-1][j]]\n",
    "        if j > 0:\n",
    "            mas += [matr[i][j-1]]\n",
    "        if i > 0:\n",
    "            mas += [matr[i//2][j]]\n",
    "        if j > 0:\n",
    "            mas += [matr[i][j//2]]\n",
    "            \n",
    "        if all(map(lambda x: x > 0, mas)):\n",
    "            matr[i][j] = -max(mas) - 1\n",
    "        else:\n",
    "            mas = list(filter(lambda x: x <= 0, mas))\n",
    "            matr[i][j] = -max(mas) + 1\n",
    "        \n"
   ]
  },
  {
   "cell_type": "code",
   "execution_count": 8,
   "metadata": {},
   "outputs": [
    {
     "data": {
      "text/plain": [
       "[25]"
      ]
     },
     "execution_count": 8,
     "metadata": {},
     "output_type": "execute_result"
    }
   ],
   "source": [
    "good = []\n",
    "for i in range(11, 1000):\n",
    "    if matr[10][i] == -4:\n",
    "        good += [i]\n",
    "good"
   ]
  },
  {
   "cell_type": "code",
   "execution_count": 3,
   "metadata": {},
   "outputs": [
    {
     "data": {
      "text/plain": [
       "[11, 12, 13, 14, 15, 16, 18, 20]"
      ]
     },
     "execution_count": 3,
     "metadata": {},
     "output_type": "execute_result"
    }
   ],
   "source": [
    "good"
   ]
  },
  {
   "cell_type": "code",
   "execution_count": 20,
   "metadata": {},
   "outputs": [],
   "source": [
    "N = 100\n",
    "matr = [[0]*N for i in range(N)]\n",
    "def makeMas(i, j):\n",
    "    return [matr[i+1][j+2], matr[i+2][j+1], matr[i*2][j], matr[i][j*2]]\n",
    "for i in range(N-1, 0, -1):\n",
    "    for j in range(N-1, 0, -1):\n",
    "        if i + j >= 47: continue\n",
    "        mas = makeMas(i, j)\n",
    "        if all(map(lambda x: x > 0, mas)):\n",
    "            matr[i][j] = -max(mas) - 1\n",
    "        else:\n",
    "            mas = list(filter(lambda x: x <= 0, mas))\n",
    "            matr[i][j] = -max(mas) + 1"
   ]
  },
  {
   "cell_type": "code",
   "execution_count": 24,
   "metadata": {},
   "outputs": [
    {
     "data": {
      "text/plain": [
       "[7,\n",
       " 8,\n",
       " 9,\n",
       " 10,\n",
       " 11,\n",
       " 12,\n",
       " 13,\n",
       " 14,\n",
       " 15,\n",
       " 16,\n",
       " 17,\n",
       " 18,\n",
       " 19,\n",
       " 20,\n",
       " 21,\n",
       " 22,\n",
       " 23,\n",
       " 24,\n",
       " 25,\n",
       " 26,\n",
       " 27,\n",
       " 28,\n",
       " 29,\n",
       " 30,\n",
       " 31,\n",
       " 32,\n",
       " 33]"
      ]
     },
     "execution_count": 24,
     "metadata": {},
     "output_type": "execute_result"
    }
   ],
   "source": [
    "good = []\n",
    "for i in range(1, 36):\n",
    "    if any(map(lambda x: x == 1, makeMas(10, i))) :\n",
    "        good += [i]\n",
    "        \n",
    "good"
   ]
  },
  {
   "cell_type": "markdown",
   "metadata": {},
   "source": [
    "10\n",
    "15\n",
    "12"
   ]
  },
  {
   "cell_type": "code",
   "execution_count": 2,
   "metadata": {},
   "outputs": [
    {
     "name": "stdout",
     "output_type": "stream",
     "text": [
      "7 8 9 10 11 12 13 14 15 16 17 18 19 20 21 22 23 24 25 26 27 28 29 30 31 32 33\n",
      "4 5 6 9 14 15 16\n",
      "12 13\n"
     ]
    }
   ],
   "source": [
    "m = dict()\n",
    "def f(i, j):\n",
    "    if i + j >= 47:\n",
    "        return 0\n",
    "    if (i, j) in m:\n",
    "        return m[(i,j)]\n",
    "    mas = [f(i + 1, j + 2), f(i + 2, j + 1), f(i*2, j), f(i, j*2)]\n",
    "    if all(map(lambda x: x > 0, mas)):\n",
    "        m[(i, j)] = -max(mas) - 1\n",
    "    else:\n",
    "        m[(i, j)] = -max(filter(lambda x: x <= 0, mas)) + 1\n",
    "    return m[(i, j)]\n",
    "\n",
    "\n",
    "\n",
    "\n",
    "good = []\n",
    "for i in range(1, 100):\n",
    "    if any(map(lambda x: x == 1, [f(i + 1, 10 + 2), f(i + 2, 10 + 1), f(i*2, 10), f(i, 10*2)])):\n",
    "        good += [i]\n",
    "print(*good)\n",
    "good = []\n",
    "for i in range(1, 100):\n",
    "    if f(i, 10) == 3:\n",
    "        good += [i]\n",
    "        \n",
    "print(*good)\n",
    "good = []\n",
    "for i in range(1, 100):\n",
    "    if f(i, 10) == -4:\n",
    "        good += [i]\n",
    "print(*good)"
   ]
  }
 ],
 "metadata": {
  "kernelspec": {
   "display_name": "Python 3",
   "language": "python",
   "name": "python3"
  },
  "language_info": {
   "codemirror_mode": {
    "name": "ipython",
    "version": 3
   },
   "file_extension": ".py",
   "mimetype": "text/x-python",
   "name": "python",
   "nbconvert_exporter": "python",
   "pygments_lexer": "ipython3",
   "version": "3.7.6"
  }
 },
 "nbformat": 4,
 "nbformat_minor": 4
}
