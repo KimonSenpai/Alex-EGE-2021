{
 "cells": [
  {
   "cell_type": "markdown",
   "metadata": {},
   "source": [
    "# Problem 25"
   ]
  },
  {
   "cell_type": "code",
   "execution_count": 6,
   "metadata": {},
   "outputs": [
    {
     "name": "stdout",
     "output_type": "stream",
     "text": [
      "3 58153\n",
      "7 24923\n",
      "59 2957\n",
      "13 13421\n",
      "149 1171\n",
      "5 34897\n",
      "211 827\n",
      "2 87251\n"
     ]
    }
   ],
   "source": [
    "from math import ceil\n",
    "for i in range(174457, 174506):\n",
    "    count = 0\n",
    "    root = ceil(i**0.5)\n",
    "    res = 0\n",
    "    if root**2 == i:\n",
    "        count += 1\n",
    "    for v in range(2, root):\n",
    "        if i % v == 0:\n",
    "            count += 2\n",
    "            res = (v, i//v)\n",
    "    if count == 2:\n",
    "        print(*res)"
   ]
  },
  {
   "cell_type": "code",
   "execution_count": 1,
   "metadata": {},
   "outputs": [
    {
     "name": "stdout",
     "output_type": "stream",
     "text": [
      "1 2 4 78157 156314 312628\n",
      "1 3 9 34739 104217 312651\n"
     ]
    }
   ],
   "source": [
    "from math import ceil\n",
    "for i in range(312614, 312652):\n",
    "    count = 0\n",
    "    root = ceil(i**0.5)\n",
    "    res = []\n",
    "    if root**2 == i:\n",
    "        count += 1\n",
    "    for v in range(1, root):\n",
    "        if i % v == 0:\n",
    "            count += 2\n",
    "            res += [v, i//v]\n",
    "    if count == 6:\n",
    "        res = sorted(res)\n",
    "        print(*res)"
   ]
  }
 ],
 "metadata": {
  "kernelspec": {
   "display_name": "Python 3",
   "language": "python",
   "name": "python3"
  },
  "language_info": {
   "codemirror_mode": {
    "name": "ipython",
    "version": 3
   },
   "file_extension": ".py",
   "mimetype": "text/x-python",
   "name": "python",
   "nbconvert_exporter": "python",
   "pygments_lexer": "ipython3",
   "version": "3.7.6"
  }
 },
 "nbformat": 4,
 "nbformat_minor": 4
}
